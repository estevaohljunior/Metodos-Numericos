{
 "cells": [
  {
   "cell_type": "markdown",
   "id": "c45e9cec",
   "metadata": {},
   "source": [
    "# Aluno: Estevão Holanda Lima Júnior\n",
    "# Disciplina: Métodos Numéricos\n",
    "# Curso: Engenharia de Computação\n",
    "# Matricula: 201921250050"
   ]
  },
  {
   "cell_type": "code",
   "execution_count": 301,
   "id": "18aaafc1",
   "metadata": {},
   "outputs": [],
   "source": [
    "import numpy as np\n",
    "import scipy.linalg as sla"
   ]
  },
  {
   "cell_type": "markdown",
   "id": "ae28c004",
   "metadata": {},
   "source": [
    "# Exercício 1.1 Classifique os sistemas abaixo com relação a quantidade e existência de soluções."
   ]
  },
  {
   "cell_type": "code",
   "execution_count": 302,
   "id": "734d1fe7",
   "metadata": {},
   "outputs": [],
   "source": [
    "A1 = np.array([[1, 2, 3], [4, 5, 6], [7, 8, 9]])\n",
    "b1 = np.array([1, 1, 1])"
   ]
  },
  {
   "cell_type": "code",
   "execution_count": 303,
   "id": "738e7c60",
   "metadata": {},
   "outputs": [
    {
     "data": {
      "text/plain": [
       "2"
      ]
     },
     "execution_count": 303,
     "metadata": {},
     "output_type": "execute_result"
    }
   ],
   "source": [
    "postoMC1 = np.linalg.matrix_rank(A1) # A\n",
    "postoMC1"
   ]
  },
  {
   "cell_type": "code",
   "execution_count": 304,
   "id": "9709373a",
   "metadata": {},
   "outputs": [
    {
     "data": {
      "text/plain": [
       "2"
      ]
     },
     "execution_count": 304,
     "metadata": {},
     "output_type": "execute_result"
    }
   ],
   "source": [
    "postoME1 = np.linalg.matrix_rank(np.c_[A1, b1]) # Ã\n",
    "postoME1"
   ]
  },
  {
   "cell_type": "markdown",
   "id": "1c9bd1a0",
   "metadata": {},
   "source": [
    "# Resposta a): Sistema Possível Determinado"
   ]
  },
  {
   "cell_type": "code",
   "execution_count": 305,
   "id": "6b419314",
   "metadata": {},
   "outputs": [],
   "source": [
    "A2 = np.array([[2, 3], [-4, -6]])\n",
    "b2 = np.array([10, -10])"
   ]
  },
  {
   "cell_type": "code",
   "execution_count": 306,
   "id": "70aafd8c",
   "metadata": {},
   "outputs": [
    {
     "data": {
      "text/plain": [
       "1"
      ]
     },
     "execution_count": 306,
     "metadata": {},
     "output_type": "execute_result"
    }
   ],
   "source": [
    "postoMC2 = np.linalg.matrix_rank(A2) # A -> matriz de coeficientes\n",
    "postoMC2"
   ]
  },
  {
   "cell_type": "code",
   "execution_count": 307,
   "id": "6abd0a7d",
   "metadata": {},
   "outputs": [
    {
     "data": {
      "text/plain": [
       "2"
      ]
     },
     "execution_count": 307,
     "metadata": {},
     "output_type": "execute_result"
    }
   ],
   "source": [
    "postoME2 = np.linalg.matrix_rank(np.c_[A2, b2]) # Ã -> matriz extendida\n",
    "postoME2"
   ]
  },
  {
   "cell_type": "markdown",
   "id": "88913e70",
   "metadata": {},
   "source": [
    "# Resposta b): Sistema Impossível"
   ]
  },
  {
   "cell_type": "markdown",
   "id": "84e7b1f6",
   "metadata": {},
   "source": [
    "# Exercício 1.2 Repita o exemplo 3.2 acima, porém fazendo cada passo da execução de forma explícita, comparando como o algoritmo 1.2 e a função sist_lin_tri_sup funcionam. Sugestão: faça isso de forma manuscrita. Ajudará a entender melhor cada passo."
   ]
  },
  {
   "cell_type": "code",
   "execution_count": 308,
   "id": "24b85d0f",
   "metadata": {},
   "outputs": [],
   "source": [
    "A3 = np.array([[3, 4, -5, 1], [0, 1, 1, -2], [0, 0, 4, -5], [0, 0, 0, 2]])\n",
    "b3 = np.array([-10, -1, 3, 2])"
   ]
  },
  {
   "cell_type": "code",
   "execution_count": 309,
   "id": "078528f7",
   "metadata": {},
   "outputs": [],
   "source": [
    "# Execução do passo a passo:"
   ]
  },
  {
   "cell_type": "code",
   "execution_count": 310,
   "id": "bb274f16",
   "metadata": {},
   "outputs": [
    {
     "data": {
      "text/plain": [
       "4"
      ]
     },
     "execution_count": 310,
     "metadata": {},
     "output_type": "execute_result"
    }
   ],
   "source": [
    "n = len(b3) # determinar o tamanho do array.\n",
    "n"
   ]
  },
  {
   "cell_type": "code",
   "execution_count": 311,
   "id": "ae571590",
   "metadata": {},
   "outputs": [
    {
     "data": {
      "text/plain": [
       "array([0., 0., 0., 0.])"
      ]
     },
     "execution_count": 311,
     "metadata": {},
     "output_type": "execute_result"
    }
   ],
   "source": [
    "x = np.zeros(n) # criar um vetor de zeros.\n",
    "x"
   ]
  },
  {
   "cell_type": "code",
   "execution_count": 312,
   "id": "f2d3cd07",
   "metadata": {},
   "outputs": [
    {
     "data": {
      "text/plain": [
       "array([0., 0., 0., 1.])"
      ]
     },
     "execution_count": 312,
     "metadata": {},
     "output_type": "execute_result"
    }
   ],
   "source": [
    "x[-1] = b3[-1] / A3[-1, -1] # calcular a icognita de maior índice.\n",
    "x"
   ]
  },
  {
   "cell_type": "code",
   "execution_count": 313,
   "id": "24419fc1",
   "metadata": {},
   "outputs": [
    {
     "name": "stdout",
     "output_type": "stream",
     "text": [
      "Loop: 2\n",
      "| b_i =  3 | linhaI_Matriz =  [-5] | vetorResposta =  [1.] | Icognita =  [1.]\n",
      "Loop: 1\n",
      "| b_i =  -1 | linhaI_Matriz =  [ 1 -2] | vetorResposta =  [2. 1.] | Icognita =  [2. 1.]\n",
      "Loop: 0\n",
      "| b_i =  -10 | linhaI_Matriz =  [ 4 -5  1] | vetorResposta =  [-1.  2.  1.] | Icognita =  [-1.  2.  1.]\n"
     ]
    }
   ],
   "source": [
    "for i in range(n-2, -1, -1): # execução da substituição retroativa.\n",
    "    print(\"Loop:\", i)\n",
    "    print(\"| b_i = \", b3[i], \"| linhaI_Matriz = \", A3[i, i +1 : ], \"| vetorResposta = \",x[i+1 : ], \"| Icognita = \",x[i+1 : ])\n",
    "    x[i] = (b3[i] - np.sum(A3[i, i +1 : ] * x[i+1 : ])) / A3[i,i]"
   ]
  },
  {
   "cell_type": "code",
   "execution_count": 314,
   "id": "95ee3c21",
   "metadata": {},
   "outputs": [
    {
     "data": {
      "text/plain": [
       "array([ 1., -1.,  2.,  1.])"
      ]
     },
     "execution_count": 314,
     "metadata": {},
     "output_type": "execute_result"
    }
   ],
   "source": [
    "x"
   ]
  },
  {
   "cell_type": "code",
   "execution_count": 315,
   "id": "65001a69",
   "metadata": {},
   "outputs": [
    {
     "data": {
      "text/plain": [
       "array([ 1., -1.,  2.,  1.])"
      ]
     },
     "execution_count": 315,
     "metadata": {},
     "output_type": "execute_result"
    }
   ],
   "source": [
    "sla.solve_triangular(A3, b3, lower = False)"
   ]
  },
  {
   "cell_type": "markdown",
   "id": "ace8a203",
   "metadata": {},
   "source": [
    "# Exercício 1.3 Repita o exemplo 3.3 acima, porém fazendo cada passo da execução de forma explícita, comparando como o algoritmo 1.3 e a função sist_lin_tri_inf funcionam. Use a mesma sugestão do exercício anterior."
   ]
  },
  {
   "cell_type": "code",
   "execution_count": 316,
   "id": "960e25c6",
   "metadata": {},
   "outputs": [],
   "source": [
    "A4 = np.array([ [3, 0, 0, 0], [2, 1, 0, 0], [1, 0, 1, 0], [1, 1, 1, 1] ])\n",
    "b4 = np.array([4, 2, 4, 2])"
   ]
  },
  {
   "cell_type": "code",
   "execution_count": 317,
   "id": "fec87af2",
   "metadata": {},
   "outputs": [
    {
     "data": {
      "text/plain": [
       "4"
      ]
     },
     "execution_count": 317,
     "metadata": {},
     "output_type": "execute_result"
    }
   ],
   "source": [
    "n = len(b4)\n",
    "n"
   ]
  },
  {
   "cell_type": "code",
   "execution_count": 318,
   "id": "3faf0e32",
   "metadata": {},
   "outputs": [
    {
     "data": {
      "text/plain": [
       "array([0., 0., 0., 0.])"
      ]
     },
     "execution_count": 318,
     "metadata": {},
     "output_type": "execute_result"
    }
   ],
   "source": [
    "x = np.zeros(n)\n",
    "x"
   ]
  },
  {
   "cell_type": "code",
   "execution_count": 319,
   "id": "dc74151b",
   "metadata": {},
   "outputs": [
    {
     "data": {
      "text/plain": [
       "array([1.33333333, 0.        , 0.        , 0.        ])"
      ]
     },
     "execution_count": 319,
     "metadata": {},
     "output_type": "execute_result"
    }
   ],
   "source": [
    "x[0] = b4[0] / A4[0, 0]\n",
    "x"
   ]
  },
  {
   "cell_type": "code",
   "execution_count": 320,
   "id": "bb96a53c",
   "metadata": {},
   "outputs": [
    {
     "name": "stdout",
     "output_type": "stream",
     "text": [
      "Loop: 1\n",
      "| b_i =  2 | linhaI_Matriz =  [2] | vetorResposta =  [1.33333333] | Icognita =  1\n",
      "Loop: 2\n",
      "| b_i =  4 | linhaI_Matriz =  [1 0] | vetorResposta =  [ 1.33333333 -0.66666667] | Icognita =  1\n",
      "Loop: 3\n",
      "| b_i =  2 | linhaI_Matriz =  [1 1 1] | vetorResposta =  [ 1.33333333 -0.66666667  2.66666667] | Icognita =  1\n"
     ]
    }
   ],
   "source": [
    "for i in range(1,n):\n",
    "    print(\"Loop:\", i)\n",
    "    print(\"| b_i = \", b4[i], \"| linhaI_Matriz = \", A4[i, : i], \"| vetorResposta = \", x[ : i], \"| Icognita = \", A4[i, i])\n",
    "    x[i] = (b4[i] - np.sum(A4[i, : i] * x[ : i])) / A4[i, i]"
   ]
  },
  {
   "cell_type": "code",
   "execution_count": 321,
   "id": "b9ad3ae3",
   "metadata": {},
   "outputs": [
    {
     "data": {
      "text/plain": [
       "array([ 1.33333333, -0.66666667,  2.66666667, -1.33333333])"
      ]
     },
     "execution_count": 321,
     "metadata": {},
     "output_type": "execute_result"
    }
   ],
   "source": [
    "x"
   ]
  },
  {
   "cell_type": "code",
   "execution_count": 322,
   "id": "20e5adea",
   "metadata": {},
   "outputs": [
    {
     "data": {
      "text/plain": [
       "array([ 1.33333333, -0.66666667,  2.66666667, -1.33333333])"
      ]
     },
     "execution_count": 322,
     "metadata": {},
     "output_type": "execute_result"
    }
   ],
   "source": [
    "sla.solve_triangular(A4, b4, lower = True)"
   ]
  },
  {
   "cell_type": "markdown",
   "id": "9011e8c2",
   "metadata": {},
   "source": [
    "# Implemente uma função, cujos parâmetros de entrada sejam somente a matriz de coeficientes e o vetor de termos independentes e que calcule o vetor solução para qualquer um dos casos triviais vistos aqui. Atente para o fato de que a própria função terá de verificar se a matriz de coeficientes é diagonal, triangular superior ou inferior e não o usuário."
   ]
  },
  {
   "cell_type": "code",
   "execution_count": 323,
   "id": "e622bce2",
   "metadata": {},
   "outputs": [],
   "source": [
    "def sist_lin_diagonal(A, b): \n",
    "    return b/A.diagonal()"
   ]
  },
  {
   "cell_type": "code",
   "execution_count": 324,
   "id": "20bfdc8b",
   "metadata": {},
   "outputs": [],
   "source": [
    "m1 = np.diag([1, 4, 2])\n",
    "v1 = np.array([4, 2, 2])\n",
    "m2 = np.array([[3, 4, -5, 1], [0, 1, 1, -2], [0, 0, 4, -5], [0, 0, 0, 2]])\n",
    "v2 = np.array([-10, -1, 3, 2])\n",
    "m3 = np.array([ [3, 0, 0, 0], [2, 1, 0, 0], [1, 0, 1, 0], [1, 1, 1, 1] ])\n",
    "v3 = np.array([4, 2, 4, 2])"
   ]
  },
  {
   "cell_type": "code",
   "execution_count": 325,
   "id": "e8b67ef3",
   "metadata": {},
   "outputs": [],
   "source": [
    "def calcularCasoTrivial(mCoeficientes, vTermos):\n",
    "    nLinhas = len(mCoeficientes)\n",
    "    nColunas = len(mCoeficientes[0])\n",
    "    \n",
    "    matrizSup = True\n",
    "    matrizInf = True\n",
    "\n",
    "    for i in range(1, nLinhas):\n",
    "        for j in range(0, i):\n",
    "            if mCoeficientes[i][j] != 0:\n",
    "                matrizSup = False\n",
    "                \n",
    "    for i in range(nLinhas):\n",
    "        for j in range(i + 1, nColunas):\n",
    "            if mCoeficientes[i][j] != 0:\n",
    "                matrizInf = False\n",
    "                \n",
    "    if matrizSup and matrizInf:\n",
    "        return sist_lin_diagonal(mCoeficientes, vTermos)\n",
    "    elif matrizSup:\n",
    "        return sla.solve_triangular(mCoeficientes, vTermos, lower = False)\n",
    "    else:\n",
    "       return sla.solve_triangular(mCoeficientes, vTermos, lower = True)\n"
   ]
  },
  {
   "cell_type": "code",
   "execution_count": 326,
   "id": "08b8a56e",
   "metadata": {},
   "outputs": [
    {
     "data": {
      "text/plain": [
       "array([4. , 0.5, 1. ])"
      ]
     },
     "execution_count": 326,
     "metadata": {},
     "output_type": "execute_result"
    }
   ],
   "source": [
    "calcularCasoTrivial(m1, v1) # teste para matriz diagonal"
   ]
  },
  {
   "cell_type": "code",
   "execution_count": 327,
   "id": "f9e38220",
   "metadata": {},
   "outputs": [
    {
     "data": {
      "text/plain": [
       "array([ 1., -1.,  2.,  1.])"
      ]
     },
     "execution_count": 327,
     "metadata": {},
     "output_type": "execute_result"
    }
   ],
   "source": [
    "calcularCasoTrivial(m2, v2) # teste para matriz triangular superior"
   ]
  },
  {
   "cell_type": "code",
   "execution_count": 328,
   "id": "d72b49f1",
   "metadata": {},
   "outputs": [
    {
     "data": {
      "text/plain": [
       "array([ 1.33333333, -0.66666667,  2.66666667, -1.33333333])"
      ]
     },
     "execution_count": 328,
     "metadata": {},
     "output_type": "execute_result"
    }
   ],
   "source": [
    "calcularCasoTrivial(m3, v3) # teste para matriz triangular inferior"
   ]
  }
 ],
 "metadata": {
  "kernelspec": {
   "display_name": "Python 3.10.6 64-bit (system)",
   "language": "python",
   "name": "python3"
  },
  "language_info": {
   "codemirror_mode": {
    "name": "ipython",
    "version": 3
   },
   "file_extension": ".py",
   "mimetype": "text/x-python",
   "name": "python",
   "nbconvert_exporter": "python",
   "pygments_lexer": "ipython3",
   "version": "3.10.6"
  },
  "vscode": {
   "interpreter": {
    "hash": "f994fadd4afe534193dab219548f6455cba5901fb4c39032f2997e5ebf926ab6"
   }
  }
 },
 "nbformat": 4,
 "nbformat_minor": 5
}
