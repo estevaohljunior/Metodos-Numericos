{
 "cells": [
  {
   "cell_type": "markdown",
   "metadata": {},
   "source": [
    "<div class=\"alert alert-block alert-info\">\n",
    "<center>Métodos Numericos</center>\n",
    "<center>LISTA 05</center>\n",
    "<center>ALUNO: Estevão Holanda Lima Júnior</center>\n",
    "</div>"
   ]
  },
  {
   "cell_type": "code",
   "execution_count": 1,
   "metadata": {},
   "outputs": [],
   "source": [
    "import time\n",
    "import numpy as np\n",
    "import pandas as pd\n",
    "from sympy import Symbol\n",
    "import scipy.optimize as opt\n",
    "import matplotlib.pyplot as plt"
   ]
  },
  {
   "cell_type": "markdown",
   "metadata": {},
   "source": [
    "<div class=\"alert alert-block alert-info\">\n",
    "1. Implemente o método da Bisseção descrito pelo algoritmo 1.1 no texto. Para testar o algoritmo,\n",
    "use os exemplos do material textual.\n",
    "</div>"
   ]
  },
  {
   "cell_type": "markdown",
   "metadata": {},
   "source": [
    "Algoritmo de ponto fixo"
   ]
  },
  {
   "cell_type": "code",
   "execution_count": 2,
   "metadata": {},
   "outputs": [],
   "source": [
    "f_1 = lambda x: np.exp(-x)"
   ]
  },
  {
   "cell_type": "code",
   "execution_count": 3,
   "metadata": {},
   "outputs": [],
   "source": [
    "def ponto_fixo(g, x_0, tol=1e-1, iter=1000):\n",
    "    erro, count = 1, 0\n",
    "    x = x_0\n",
    "    while (erro > tol):\n",
    "        y_x = g(x)\n",
    "        if y_x == 0:\n",
    "            return x\n",
    "        else:\n",
    "            erro = abs((y_x - x) / y_x)\n",
    "        \n",
    "        x = y_x\n",
    "        count += 1\n",
    "        if (count >= iter): break\n",
    "    return x, count"
   ]
  },
  {
   "cell_type": "code",
   "execution_count": 4,
   "metadata": {},
   "outputs": [
    {
     "data": {
      "text/plain": [
       "(0.5796123355033789, 7)"
      ]
     },
     "execution_count": 4,
     "metadata": {},
     "output_type": "execute_result"
    }
   ],
   "source": [
    "ponto_fixo(f_1, 0)"
   ]
  },
  {
   "cell_type": "code",
   "execution_count": 5,
   "metadata": {},
   "outputs": [
    {
     "data": {
      "text/plain": [
       "array(0.56735086)"
      ]
     },
     "execution_count": 5,
     "metadata": {},
     "output_type": "execute_result"
    }
   ],
   "source": [
    "opt.fixed_point(f_1, x0=0, xtol=1e-1)"
   ]
  },
  {
   "cell_type": "code",
   "execution_count": 6,
   "metadata": {},
   "outputs": [
    {
     "data": {
      "text/plain": [
       "0.5796123355033789"
      ]
     },
     "execution_count": 6,
     "metadata": {},
     "output_type": "execute_result"
    }
   ],
   "source": [
    "opt.fixed_point(f_1, x0=0, xtol=1e-1, method='iteration')"
   ]
  },
  {
   "cell_type": "code",
   "execution_count": 7,
   "metadata": {},
   "outputs": [
    {
     "data": {
      "text/plain": [
       "0.5796123355033789"
      ]
     },
     "execution_count": 7,
     "metadata": {},
     "output_type": "execute_result"
    }
   ],
   "source": [
    "opt.fixed_point(f_1, x0=0, xtol=1e-1, method='iteration', maxiter=7)"
   ]
  },
  {
   "cell_type": "markdown",
   "metadata": {},
   "source": [
    "Método Newton-Raphson"
   ]
  },
  {
   "cell_type": "code",
   "execution_count": 8,
   "metadata": {},
   "outputs": [],
   "source": [
    "f_1_2 = lambda x: np.exp(-x) - x"
   ]
  },
  {
   "cell_type": "code",
   "execution_count": 9,
   "metadata": {},
   "outputs": [],
   "source": [
    "d_f_1_2 = lambda x: -np.exp(-x) - 1"
   ]
  },
  {
   "cell_type": "code",
   "execution_count": 10,
   "metadata": {},
   "outputs": [],
   "source": [
    "def newt_raph(f, der_f, initial, tol=1e-4, max_iterations=1000):\n",
    "    error, iterations = 1, 0\n",
    "    x_ant = initial\n",
    "    while iterations <= max_iterations:\n",
    "        \n",
    "        if(f(x_ant) == 0):\n",
    "            break\n",
    "        \n",
    "        x = x_ant - (f(x_ant) / der_f(x_ant))\n",
    "        \n",
    "        error = abs((x - x_ant)/x)\n",
    "        \n",
    "        if error <= tol:\n",
    "            break\n",
    "        \n",
    "        x_ant = x\n",
    "        iterations += 1\n",
    "    return x, iterations\n",
    "        "
   ]
  },
  {
   "cell_type": "markdown",
   "metadata": {},
   "source": [
    "Teste 1"
   ]
  },
  {
   "cell_type": "code",
   "execution_count": 11,
   "metadata": {},
   "outputs": [
    {
     "data": {
      "text/plain": [
       "(0.5671432904097811, 3)"
      ]
     },
     "execution_count": 11,
     "metadata": {},
     "output_type": "execute_result"
    }
   ],
   "source": [
    "newt_raph(f_1_2, d_f_1_2, 0)"
   ]
  },
  {
   "cell_type": "code",
   "execution_count": 12,
   "metadata": {},
   "outputs": [
    {
     "data": {
      "text/plain": [
       "      converged: True\n",
       "           flag: 'converged'\n",
       " function_calls: 10\n",
       "     iterations: 5\n",
       "           root: 0.567143290409784"
      ]
     },
     "execution_count": 12,
     "metadata": {},
     "output_type": "execute_result"
    }
   ],
   "source": [
    "opt.root_scalar(f_1_2, fprime=d_f_1_2, x0=0, method='newton')"
   ]
  },
  {
   "cell_type": "markdown",
   "metadata": {},
   "source": [
    "Teste 2"
   ]
  },
  {
   "cell_type": "code",
   "execution_count": 13,
   "metadata": {},
   "outputs": [
    {
     "data": {
      "text/plain": [
       "(0.5671432904097838, 13)"
      ]
     },
     "execution_count": 13,
     "metadata": {},
     "output_type": "execute_result"
    }
   ],
   "source": [
    "newt_raph(f_1_2, d_f_1_2, -10)"
   ]
  },
  {
   "cell_type": "code",
   "execution_count": 14,
   "metadata": {},
   "outputs": [
    {
     "data": {
      "text/plain": [
       "      converged: True\n",
       "           flag: 'converged'\n",
       " function_calls: 28\n",
       "     iterations: 14\n",
       "           root: 0.5671432904097838"
      ]
     },
     "execution_count": 14,
     "metadata": {},
     "output_type": "execute_result"
    }
   ],
   "source": [
    "opt.root_scalar(f_1_2, fprime=d_f_1_2, x0=-10, method='newton')"
   ]
  },
  {
   "cell_type": "markdown",
   "metadata": {},
   "source": [
    "Método da secante"
   ]
  },
  {
   "cell_type": "code",
   "execution_count": 15,
   "metadata": {},
   "outputs": [],
   "source": [
    "def secante(f, x0, x1, tol=1e-4, max_iterations=1000):\n",
    "    error, iterations = 1, 0\n",
    "    x = x1\n",
    "    while iterations <= max_iterations:\n",
    "        y0 = f(x0)\n",
    "        y1 = f(x1)\n",
    "        if(y1 == 0 or y0 == 0):\n",
    "            break\n",
    "        x = x0 - y0 * ((x1 - x0) / (y1 - y0))\n",
    "        error = abs((x - x1)/x)\n",
    "        if error <= tol: break\n",
    "        iterations += 1\n",
    "        x0 = x1\n",
    "        x1 = x\n",
    "    return x, iterations"
   ]
  },
  {
   "cell_type": "code",
   "execution_count": 16,
   "metadata": {},
   "outputs": [],
   "source": [
    "f_1_3 = lambda x: np.cos(x) - x"
   ]
  },
  {
   "cell_type": "code",
   "execution_count": 17,
   "metadata": {},
   "outputs": [],
   "source": [
    "x1 = 0.5\n",
    "x0 = 0.9"
   ]
  },
  {
   "cell_type": "code",
   "execution_count": 18,
   "metadata": {},
   "outputs": [
    {
     "data": {
      "text/plain": [
       "(0.7390851330933109, 3)"
      ]
     },
     "execution_count": 18,
     "metadata": {},
     "output_type": "execute_result"
    }
   ],
   "source": [
    "secante(f_1_3, x0=x0, x1=x1)"
   ]
  },
  {
   "cell_type": "code",
   "execution_count": 19,
   "metadata": {},
   "outputs": [
    {
     "data": {
      "text/plain": [
       "      converged: True\n",
       "           flag: 'converged'\n",
       " function_calls: 6\n",
       "     iterations: 5\n",
       "           root: 0.7390851332151607"
      ]
     },
     "execution_count": 19,
     "metadata": {},
     "output_type": "execute_result"
    }
   ],
   "source": [
    "opt.root_scalar(f_1_3, method='secant', x0=x0, x1=x1)"
   ]
  },
  {
   "cell_type": "markdown",
   "metadata": {},
   "source": [
    "<div class=\"alert alert-block alert-info\">\n",
    "    2. Use a iteração de ponto fixo simples para localizar a raiz de $f(x) = 2 sin(\\sqrt{x})-x$, tendo $x_0 = 0, 5$\n",
    "e adotando como critério de parada o erro $e_a ≤ 0, 001%$.\n",
    "</div>"
   ]
  },
  {
   "cell_type": "code",
   "execution_count": 20,
   "metadata": {},
   "outputs": [],
   "source": [
    "f_2 = lambda x: 2 * np.sin(np.sqrt(x))-x"
   ]
  },
  {
   "cell_type": "code",
   "execution_count": 21,
   "metadata": {},
   "outputs": [
    {
     "data": {
      "text/plain": [
       "(0.768602780340925, 6)"
      ]
     },
     "execution_count": 21,
     "metadata": {},
     "output_type": "execute_result"
    }
   ],
   "source": [
    "ponto_fixo(f_2, 0.5, 0.001)"
   ]
  },
  {
   "cell_type": "code",
   "execution_count": 22,
   "metadata": {},
   "outputs": [
    {
     "data": {
      "text/plain": [
       "array(0.76864886)"
      ]
     },
     "execution_count": 22,
     "metadata": {},
     "output_type": "execute_result"
    }
   ],
   "source": [
    "opt.fixed_point(f_2, x0=1, xtol = 0.001)"
   ]
  },
  {
   "cell_type": "markdown",
   "metadata": {},
   "source": [
    "<div class=\"alert alert-block alert-info\">\n",
    "3. Determine a maior raiz real de $f (x) = 2x^3 − 11.7x^2 + 17.7x − 5$\n",
    "    \n",
    "(a) Graficamente;\n",
    "    \n",
    "(b) Pelo método da iteração de ponto fixo (três iterações, x0 = 3)( certifique-se de desenvolver uma solução que convirja para a raiz);\n",
    "    \n",
    "(c) Pelo método de Newton-Raphson (três iterações, x0 = 3);\n",
    "    \n",
    "(d) Pelo método da secante (três iterações, x−1 = 3, x0 = 4).\n",
    "    \n",
    " </div>"
   ]
  },
  {
   "cell_type": "markdown",
   "metadata": {},
   "source": [
    "### A)"
   ]
  },
  {
   "cell_type": "code",
   "execution_count": 23,
   "metadata": {},
   "outputs": [],
   "source": [
    "f_3_a = lambda x: 2*x**3 - 11.7*x**2 + 17.7*x - 5"
   ]
  },
  {
   "cell_type": "code",
   "execution_count": 24,
   "metadata": {},
   "outputs": [
    {
     "data": {
      "image/png": "[encoded data removed]",
      "text/plain": [
       "<Figure size 432x288 with 1 Axes>"
      ]
     },
     "metadata": {
      "needs_background": "light"
     },
     "output_type": "display_data"
    }
   ],
   "source": [
    "x = np.linspace(-1,5,200)\n",
    "plt.plot(x,f_3_a(x))\n",
    "plt.grid()"
   ]
  },
  {
   "cell_type": "markdown",
   "metadata": {},
   "source": [
    "Ponto fixo"
   ]
  },
  {
   "cell_type": "code",
   "execution_count": 25,
   "metadata": {},
   "outputs": [],
   "source": [
    "g_3_b = lambda x: 2*x**3 - 11.7*x**2 + 18.7*x - 5"
   ]
  },
  {
   "cell_type": "code",
   "execution_count": 26,
   "metadata": {},
   "outputs": [
    {
     "data": {
      "text/plain": [
       "(-2742.5462420480503, 3)"
      ]
     },
     "execution_count": 26,
     "metadata": {},
     "output_type": "execute_result"
    }
   ],
   "source": [
    "ponto_fixo(g_3_b, 3, iter=3)"
   ]
  },
  {
   "cell_type": "code",
   "execution_count": 27,
   "metadata": {},
   "outputs": [
    {
     "ename": "RuntimeError",
     "evalue": "Failed to converge after 3 iterations, value is -2742.5462420480503",
     "output_type": "error",
     "traceback": [
      "\u001b[1;31m---------------------------------------------------------------------------\u001b[0m",
      "\u001b[1;31mRuntimeError\u001b[0m                              Traceback (most recent call last)",
      "Input \u001b[1;32mIn [27]\u001b[0m, in \u001b[0;36m<cell line: 1>\u001b[1;34m()\u001b[0m\n\u001b[1;32m----> 1\u001b[0m \u001b[43mopt\u001b[49m\u001b[38;5;241;43m.\u001b[39;49m\u001b[43mfixed_point\u001b[49m\u001b[43m(\u001b[49m\u001b[43mg_3_b\u001b[49m\u001b[43m,\u001b[49m\u001b[43m \u001b[49m\u001b[43mx0\u001b[49m\u001b[38;5;241;43m=\u001b[39;49m\u001b[38;5;241;43m3\u001b[39;49m\u001b[43m,\u001b[49m\u001b[43m \u001b[49m\u001b[43mmethod\u001b[49m\u001b[38;5;241;43m=\u001b[39;49m\u001b[38;5;124;43m'\u001b[39;49m\u001b[38;5;124;43miteration\u001b[39;49m\u001b[38;5;124;43m'\u001b[39;49m\u001b[43m,\u001b[49m\u001b[43m \u001b[49m\u001b[43mmaxiter\u001b[49m\u001b[38;5;241;43m=\u001b[39;49m\u001b[38;5;241;43m3\u001b[39;49m\u001b[43m)\u001b[49m\n",
      "File \u001b[1;32m~\\AppData\\Local\\Packages\\PythonSoftwareFoundation.Python.3.10_qbz5n2kfra8p0\\LocalCache\\local-packages\\Python310\\site-packages\\scipy\\optimize\\_minpack_py.py:942\u001b[0m, in \u001b[0;36mfixed_point\u001b[1;34m(func, x0, args, xtol, maxiter, method)\u001b[0m\n\u001b[0;32m    940\u001b[0m use_accel \u001b[38;5;241m=\u001b[39m {\u001b[38;5;124m'\u001b[39m\u001b[38;5;124mdel2\u001b[39m\u001b[38;5;124m'\u001b[39m: \u001b[38;5;28;01mTrue\u001b[39;00m, \u001b[38;5;124m'\u001b[39m\u001b[38;5;124miteration\u001b[39m\u001b[38;5;124m'\u001b[39m: \u001b[38;5;28;01mFalse\u001b[39;00m}[method]\n\u001b[0;32m    941\u001b[0m x0 \u001b[38;5;241m=\u001b[39m _asarray_validated(x0, as_inexact\u001b[38;5;241m=\u001b[39m\u001b[38;5;28;01mTrue\u001b[39;00m)\n\u001b[1;32m--> 942\u001b[0m \u001b[38;5;28;01mreturn\u001b[39;00m \u001b[43m_fixed_point_helper\u001b[49m\u001b[43m(\u001b[49m\u001b[43mfunc\u001b[49m\u001b[43m,\u001b[49m\u001b[43m \u001b[49m\u001b[43mx0\u001b[49m\u001b[43m,\u001b[49m\u001b[43m \u001b[49m\u001b[43margs\u001b[49m\u001b[43m,\u001b[49m\u001b[43m \u001b[49m\u001b[43mxtol\u001b[49m\u001b[43m,\u001b[49m\u001b[43m \u001b[49m\u001b[43mmaxiter\u001b[49m\u001b[43m,\u001b[49m\u001b[43m \u001b[49m\u001b[43muse_accel\u001b[49m\u001b[43m)\u001b[49m\n",
      "File \u001b[1;32m~\\AppData\\Local\\Packages\\PythonSoftwareFoundation.Python.3.10_qbz5n2kfra8p0\\LocalCache\\local-packages\\Python310\\site-packages\\scipy\\optimize\\_minpack_py.py:896\u001b[0m, in \u001b[0;36m_fixed_point_helper\u001b[1;34m(func, x0, args, xtol, maxiter, use_accel)\u001b[0m\n\u001b[0;32m    894\u001b[0m     p0 \u001b[38;5;241m=\u001b[39m p\n\u001b[0;32m    895\u001b[0m msg \u001b[38;5;241m=\u001b[39m \u001b[38;5;124m\"\u001b[39m\u001b[38;5;124mFailed to converge after \u001b[39m\u001b[38;5;132;01m%d\u001b[39;00m\u001b[38;5;124m iterations, value is \u001b[39m\u001b[38;5;132;01m%s\u001b[39;00m\u001b[38;5;124m\"\u001b[39m \u001b[38;5;241m%\u001b[39m (maxiter, p)\n\u001b[1;32m--> 896\u001b[0m \u001b[38;5;28;01mraise\u001b[39;00m \u001b[38;5;167;01mRuntimeError\u001b[39;00m(msg)\n",
      "\u001b[1;31mRuntimeError\u001b[0m: Failed to converge after 3 iterations, value is -2742.5462420480503"
     ]
    }
   ],
   "source": [
    "opt.fixed_point(g_3_b, x0=3, method='iteration', maxiter=3)"
   ]
  },
  {
   "cell_type": "markdown",
   "metadata": {},
   "source": [
    "Newton-Raphson"
   ]
  },
  {
   "cell_type": "code",
   "execution_count": null,
   "metadata": {},
   "outputs": [],
   "source": [
    "d_f_3b = lambda x : 6*x**2 - 23.4*x + 17.7"
   ]
  },
  {
   "cell_type": "code",
   "execution_count": null,
   "metadata": {},
   "outputs": [],
   "source": [
    "newt_raph(f_3_a, d_f_3b,initial=3, max_iterations=3)"
   ]
  },
  {
   "cell_type": "markdown",
   "metadata": {},
   "source": [
    "Secante"
   ]
  },
  {
   "cell_type": "code",
   "execution_count": null,
   "metadata": {},
   "outputs": [],
   "source": [
    "secante(f_3_a, 3, 4, max_iterations=3)"
   ]
  },
  {
   "cell_type": "markdown",
   "metadata": {},
   "source": [
    "<div class=\"alert alert-block alert-info\">\n",
    "    \n",
    "4. Compare os métodos da bisseção, falsa posição, do ponto fixo, de Newton-Raphson e da secante,\n",
    "localizando a raiz das seguintes equações:\n",
    "    \n",
    "(a) $ f_1 (x) = 2x^4 + 4x^3 + 3x^2 − 10x − 15 $, com x∗ ∈ [0, 3]\n",
    "\n",
    "(b) $ f_2(x) = (x + 3)(x + 1)(x − 2)^3 $, com x* ∈ [0, 5] \n",
    "    \n",
    "(c) $ f_3(x) = 5x^3 + x^2 − e^{1−2x} + cos(x) + 20 $, com x∗ ∈ [−5, 5]\n",
    "\n",
    "(d) $ f_4(x) = sin(x)x + 4 $, com x∗ ∈ [1, 5]\n",
    "\n",
    "(e) $ f_5(x) = (x − 3)^5ln(x) $, com x*  ∈ [2, 5]\n",
    "\n",
    "(f) $ f_6(x) = x^10 − 1$, com x∗ ∈ [0.8, 1.2] \n",
    "    \n",
    "        \n",
    "Para as avaliações, deve-se considerar:\n",
    "\n",
    "• o número máximo de iterações de todos os métodos testados não pode ultrapassar 200;\n",
    "    \n",
    "• a tolerância deve ser de 10−10;\n",
    "\n",
    "• para os métodos abertos, escolha os limites do intervalo, respectivamente como x?1 e x0.\n",
    "    \n",
    "Para cada método, estamos interessados em comparar:\n",
    "\n",
    "• raiz;\n",
    "\n",
    "• número de iterações até o critério de parada;\n",
    "    \n",
    "• se houve erro de convergência;\n",
    "\n",
    "• tempo de cálculo (procure como calcular tempo de execução usando jupyter notebooks, como %timeit).\n",
    "    \n",
    "</div>"
   ]
  },
  {
   "cell_type": "code",
   "execution_count": 39,
   "metadata": {},
   "outputs": [],
   "source": [
    "def bissecao(func, a, b, tol=1e-10, inter=None, verbose=False):\n",
    "    erro, x_ant, count = 1, a, 0\n",
    "    y_a = func(a)\n",
    "    y_b = func(b)\n",
    "    x = 0\n",
    "    while(erro > tol):\n",
    "        if y_a * y_b > 0:\n",
    "            if verbose: print(\"Não ha raiz nesse intervalo.\")\n",
    "            return None\n",
    "        \n",
    "        if y_a * y_b == 0:\n",
    "            if verbose: print(f\"Encontrou a raiz {a if y_a == 0 else b}\")\n",
    "            return a if y_a == 0 else b\n",
    "        \n",
    "        x_ant = x\n",
    "        x = (a + b) / 2\n",
    "        y_x = func(x)\n",
    "        \n",
    "        count += 1\n",
    "        if verbose: print(f\"Interação: {count} ==================== X:{x:.4f} | Erro:{erro:.4f} | Inferior:{a:.2f} | Superior:{b:.2f}\")\n",
    "        \n",
    "        if(inter != None and count >= inter): break\n",
    "        \n",
    "        if y_a * y_x < 0:\n",
    "            b = x\n",
    "            y_b = y_x\n",
    "            \n",
    "        elif y_x * y_b < 0:\n",
    "            a = x\n",
    "            y_a = y_x\n",
    "        \n",
    "        erro = abs((x - x_ant)/x)\n",
    "    \n",
    "    return x, count"
   ]
  },
  {
   "cell_type": "code",
   "execution_count": 40,
   "metadata": {},
   "outputs": [],
   "source": [
    "def falsa_posicao(func, a, b, tol=1e-10, inter=None, verbose=False):\n",
    "    erro, x_ant, count = 1, a, 0\n",
    "    y_a = func(a)\n",
    "    y_b = func(b)\n",
    "    x = 0\n",
    "    while(erro > tol):\n",
    "        if y_a * y_b > 0:\n",
    "            if verbose: print(\"Não ha raiz nesse intervalo.\")\n",
    "            return None\n",
    "        \n",
    "        if y_a * y_b == 0:\n",
    "            if verbose: print(f\"Encontrou a raiz {a if y_a == 0 else b}\")\n",
    "            return a if y_a == 0 else b\n",
    "        \n",
    "        x_ant = x\n",
    "        x = b - ((y_b * (a-b)) / (y_a - y_b))\n",
    "        y_x = func(x)\n",
    "        \n",
    "        count += 1\n",
    "        if verbose: print(f\"Interação: {count} ==================== X:{x:.4f} | Erro:{erro:.4f} | Inferior:{a:.2f} | Superior:{b:.2f}\")\n",
    "        \n",
    "        if(inter != None and count >= inter): break\n",
    "        \n",
    "        if y_a * y_x < 0:\n",
    "            b = x\n",
    "            y_b = y_x\n",
    "            \n",
    "        elif y_x * y_b < 0:\n",
    "            a = x\n",
    "            y_a = y_x\n",
    "        \n",
    "        erro = abs((x - x_ant)/x)\n",
    "    \n",
    "    return x, count"
   ]
  },
  {
   "cell_type": "code",
   "execution_count": 28,
   "metadata": {},
   "outputs": [],
   "source": [
    "def metodos(func, der, x0, x1, func_fp = None, tol=1e-10, maxInter=200, verbose=False):\n",
    "    results = pd.DataFrame()\n",
    "    \n",
    "    #Bisseção\n",
    "    erro = 0\n",
    "    \n",
    "    if verbose: print(\"Bisseção\")\n",
    "    \n",
    "    try:\n",
    "        init = time.perf_counter()\n",
    "        root_des, inter_des = bissecao(func, x0, x1, tol=tol, inter=maxInter)\n",
    "        t1 = time.perf_counter() - init\n",
    "        \n",
    "    except Exception as e:\n",
    "        print(f\"Bisseção: {e}\")\n",
    "        erro = 1\n",
    "    \n",
    "    try:\n",
    "        init = time.perf_counter()  \n",
    "        opt_res = opt.root_scalar(func, method='bisect', bracket=[x0,x1], xtol=tol, maxiter=maxInter)\n",
    "        t2 = time.perf_counter() - init\n",
    "        root_opt = opt_res.root\n",
    "        inter_opt = opt_res.iterations\n",
    "    except Exception as e:\n",
    "        print(f\"Bisseção: {e}\")\n",
    "        erro = 2 if erro == 0 else 3\n",
    "    \n",
    "    if erro == 0: results[\"bisseção\"] = [root_des, root_opt, t1, t2, inter_des, inter_opt, np.nan]\n",
    "    if erro == 1: results[\"bisseção\"] = [np.nan, root_opt, np.inf, t2, np.inf, inter_opt, \"des\"]\n",
    "    if erro == 2: results[\"bisseção\"] = [root_des, np.nan, t1, np.inf, inter_des, np.inf, \"opt\"]\n",
    "    if erro == 3: results[\"bisseção\"] = [np.nan, np.nan, np.inf, np.inf, np.inf, np.inf, \"des/opt\"]\n",
    "    #----------------------------------------#\n",
    "    \n",
    "    #Falsa posição\n",
    "    try:\n",
    "        if verbose: print(\"Falsa posição\")\n",
    "        init = time.perf_counter()\n",
    "        root_des, inter_des = falsa_posicao(func, x0, x1, tol=tol, inter=maxInter)\n",
    "        t1 = time.perf_counter() - init\n",
    "    \n",
    "        results[\"falsa posição\"] = [root_des, np.nan, t1, np.nan, inter_des, np.nan, np.nan]\n",
    "    except Exception as e:\n",
    "        print(f\"Falsa posição: {e}\")\n",
    "        results[\"falsa posição\"] = [np.nan, np.nan, np.inf, np.nan, np.inf, np.nan, \"des/opt\"]\n",
    "    #----------------------------------------#\n",
    "    \n",
    "    #Ponto fixo\n",
    "    erro = 0\n",
    "    \n",
    "    if verbose: print(\"Ponto fixo\")\n",
    "    \n",
    "    try:\n",
    "        init = time.perf_counter()\n",
    "        root_des, inter_des = ponto_fixo(func_fp, x0, iter=maxInter, tol=tol)\n",
    "        t1 = time.perf_counter() - init\n",
    "    except Exception as e:\n",
    "        print(f\"Ponto Fixo: {e}\")\n",
    "        erro = 1\n",
    "    \n",
    "    try:\n",
    "        init = time.perf_counter()  \n",
    "        opt_res = opt.fixed_point(func_fp, x0, maxiter=maxInter, xtol=tol)\n",
    "        t2 = time.perf_counter() - init\n",
    "        root_opt = opt_res\n",
    "        inter_opt = np.nan\n",
    "    except Exception as e:\n",
    "        print(opt_res)\n",
    "        print(f\"Ponto Fixo: {e}\")\n",
    "        erro = 2 if erro == 0 else 3\n",
    "    \n",
    "    if erro == 0: results[\"ponto fixo\"] = [root_des, root_opt, t1, t2, inter_des, inter_opt, np.nan]\n",
    "    if erro == 1: results[\"ponto fixo\"] = [np.nan, root_opt, np.inf, t2, np.inf, inter_opt, \"des\"]\n",
    "    if erro == 2: results[\"ponto fixo\"] = [root_des, np.nan, t1, np.inf, inter_des, np.inf, \"opt\"]\n",
    "    if erro == 3: results[\"ponto fixo\"] = [np.nan, np.nan, np.inf, np.inf, np.inf, np.inf, \"des/opt\"]\n",
    "    #----------------------------------------#\n",
    "    \n",
    "    #Newton-Raphson\n",
    "    erro = 0\n",
    "    \n",
    "    if verbose: print(\"Newton-Raphson\")\n",
    "    \n",
    "    try:\n",
    "        init = time.perf_counter()\n",
    "        root_des, inter_des = newt_raph(func, der, x0, tol=tol, max_iterations=maxInter)\n",
    "        t1 = time.perf_counter() - init\n",
    "    except Exception as e:\n",
    "        print(f\"Newton-Raphson: {e}\")\n",
    "        erro = 1\n",
    "    \n",
    "    try:\n",
    "        init = time.perf_counter()  \n",
    "        opt_res = opt.root_scalar(func, fprime=der, x0=x0, method='newton', xtol=tol, maxiter=maxInter)\n",
    "        t2 = time.perf_counter() - init\n",
    "        root_opt = opt_res.root\n",
    "        inter_opt = opt_res.iterations\n",
    "    except Exception as e:\n",
    "        print(f\"Newton-Raphson: {e}\")\n",
    "        erro = 2 if erro == 0 else 3\n",
    "    \n",
    "    if erro == 0: results[\"Newton-Raphson\"] = [root_des, root_opt, t1, t2, inter_des, inter_opt, np.nan]\n",
    "    if erro == 1: results[\"Newton-Raphson\"] = [np.nan, root_opt, np.inf, t2, np.inf, inter_opt, \"des\"]\n",
    "    if erro == 2: results[\"Newton-Raphson\"] = [root_des, np.nan, t1, np.inf, inter_des, np.inf, \"opt\"]\n",
    "    if erro == 3: results[\"Newton-Raphson\"] = [np.nan, np.nan, np.inf, np.inf, np.inf, np.inf, \"des/opt\"]\n",
    "    #----------------------------------------#\n",
    "    \n",
    "    #Secante\n",
    "    erro = 0\n",
    "    \n",
    "    if verbose: print(\"Secante\")\n",
    "    \n",
    "    try:\n",
    "        init = time.perf_counter()\n",
    "        root_des, inter_des = secante(func, x0, x1, tol=tol, max_iterations=maxInter)\n",
    "        t1 = time.perf_counter() - init\n",
    "    except Exception as e:\n",
    "        print(f\"Secante: {e}\")\n",
    "        erro = 1\n",
    "    \n",
    "    try:\n",
    "        init = time.perf_counter()  \n",
    "        opt_res = opt.root_scalar(func, method='secant', x0=x0, x1=x1, xtol=tol, maxiter=maxInter)\n",
    "        t2 = time.perf_counter() - init\n",
    "        root_opt = opt_res.root\n",
    "        inter_opt = opt_res.iterations\n",
    "    except Exception as e:\n",
    "        print(f\"Secante: {e}\")\n",
    "        erro = 2 if erro == 0 else 3\n",
    "    \n",
    "    if erro == 0: results[\"Secante\"] = [root_des, root_opt, t1, t2, inter_des, inter_opt, np.nan]\n",
    "    if erro == 1: results[\"Secante\"] = [np.nan, root_opt, np.inf, t2, np.inf, inter_opt, \"des\"]\n",
    "    if erro == 2: results[\"Secante\"] = [root_des, np.nan, t1, np.inf, inter_des, np.inf, \"opt\"]\n",
    "    if erro == 3: results[\"Secante\"] = [np.nan, np.nan, np.inf, np.inf, np.inf, np.inf, \"des/opt\"]   \n",
    "    #----------------------------------------#\n",
    "    \n",
    "    results = results.T\n",
    "    results.columns = [\"Desenvolvido\", \"scipy.optimize\", \"Time - Des\", \"Time - OPT\", \"Interações - Des\", \"Interações - OPT\", \"Erro\"]\n",
    "    return results"
   ]
  },
  {
   "cell_type": "code",
   "execution_count": 29,
   "metadata": {},
   "outputs": [],
   "source": [
    "maxIter = 200\n",
    "tol = 1e-10"
   ]
  },
  {
   "cell_type": "markdown",
   "metadata": {},
   "source": [
    "### a)"
   ]
  },
  {
   "cell_type": "code",
   "execution_count": 30,
   "metadata": {},
   "outputs": [],
   "source": [
    "# Função\n",
    "f_a = lambda x: 2*x**4 + 4*x**3 + 3*x**2 - 10*x - 15\n",
    "\n",
    "# Derivada\n",
    "der_a = lambda x: 8*x**3 + 12*x**2 + 6*x - 10\n",
    "\n",
    "# f(x) = x -> Ponto fixo\n",
    "g_a = lambda x: (2*x**4 + 4*x**3 + 3*x**2 - 15) / 10"
   ]
  },
  {
   "cell_type": "code",
   "execution_count": 31,
   "metadata": {},
   "outputs": [
    {
     "data": {
      "image/png": "[encoded data removed]",
      "text/plain": [
       "<Figure size 432x288 with 1 Axes>"
      ]
     },
     "metadata": {
      "needs_background": "light"
     },
     "output_type": "display_data"
    }
   ],
   "source": [
    "plt.plot(np.linspace(0,3), f_a(np.linspace(0,3)))\n",
    "plt.grid(True)"
   ]
  },
  {
   "cell_type": "code",
   "execution_count": 32,
   "metadata": {},
   "outputs": [
    {
     "name": "stdout",
     "output_type": "stream",
     "text": [
      "Bisseção\n",
      "Bisseção: name 'bissecao' is not defined\n",
      "Falsa posição\n",
      "Falsa posição: name 'falsa_posicao' is not defined\n",
      "Ponto fixo\n",
      "Newton-Raphson\n",
      "Secante\n"
     ]
    },
    {
     "data": {
      "text/html": [
       "<div>\n",
       "<style scoped>\n",
       "    .dataframe tbody tr th:only-of-type {\n",
       "        vertical-align: middle;\n",
       "    }\n",
       "\n",
       "    .dataframe tbody tr th {\n",
       "        vertical-align: top;\n",
       "    }\n",
       "\n",
       "    .dataframe thead th {\n",
       "        text-align: right;\n",
       "    }\n",
       "</style>\n",
       "<table border=\"1\" class=\"dataframe\">\n",
       "  <thead>\n",
       "    <tr style=\"text-align: right;\">\n",
       "      <th></th>\n",
       "      <th>Desenvolvido</th>\n",
       "      <th>scipy.optimize</th>\n",
       "      <th>Time - Des</th>\n",
       "      <th>Time - OPT</th>\n",
       "      <th>Interações - Des</th>\n",
       "      <th>Interações - OPT</th>\n",
       "      <th>Erro</th>\n",
       "    </tr>\n",
       "  </thead>\n",
       "  <tbody>\n",
       "    <tr>\n",
       "      <th>bisseção</th>\n",
       "      <td>NaN</td>\n",
       "      <td>1.492879</td>\n",
       "      <td>inf</td>\n",
       "      <td>0.000171</td>\n",
       "      <td>inf</td>\n",
       "      <td>35</td>\n",
       "      <td>des</td>\n",
       "    </tr>\n",
       "    <tr>\n",
       "      <th>falsa posição</th>\n",
       "      <td>NaN</td>\n",
       "      <td>NaN</td>\n",
       "      <td>inf</td>\n",
       "      <td>NaN</td>\n",
       "      <td>inf</td>\n",
       "      <td>NaN</td>\n",
       "      <td>des/opt</td>\n",
       "    </tr>\n",
       "    <tr>\n",
       "      <th>ponto fixo</th>\n",
       "      <td>-1.300384</td>\n",
       "      <td>-1.3003841326439198</td>\n",
       "      <td>0.000103</td>\n",
       "      <td>0.002486</td>\n",
       "      <td>35</td>\n",
       "      <td>NaN</td>\n",
       "      <td>NaN</td>\n",
       "    </tr>\n",
       "    <tr>\n",
       "      <th>Newton-Raphson</th>\n",
       "      <td>-1.300384</td>\n",
       "      <td>-1.300384</td>\n",
       "      <td>0.000057</td>\n",
       "      <td>0.001041</td>\n",
       "      <td>5.0</td>\n",
       "      <td>6.0</td>\n",
       "      <td>NaN</td>\n",
       "    </tr>\n",
       "    <tr>\n",
       "      <th>Secante</th>\n",
       "      <td>-1.300384</td>\n",
       "      <td>-1.300384</td>\n",
       "      <td>0.000076</td>\n",
       "      <td>0.001614</td>\n",
       "      <td>10.0</td>\n",
       "      <td>11.0</td>\n",
       "      <td>NaN</td>\n",
       "    </tr>\n",
       "  </tbody>\n",
       "</table>\n",
       "</div>"
      ],
      "text/plain": [
       "               Desenvolvido       scipy.optimize Time - Des Time - OPT  \\\n",
       "bisseção                NaN             1.492879        inf   0.000171   \n",
       "falsa posição           NaN                  NaN        inf        NaN   \n",
       "ponto fixo        -1.300384  -1.3003841326439198   0.000103   0.002486   \n",
       "Newton-Raphson    -1.300384            -1.300384   0.000057   0.001041   \n",
       "Secante           -1.300384            -1.300384   0.000076   0.001614   \n",
       "\n",
       "               Interações - Des Interações - OPT     Erro  \n",
       "bisseção                    inf               35      des  \n",
       "falsa posição               inf              NaN  des/opt  \n",
       "ponto fixo                   35              NaN      NaN  \n",
       "Newton-Raphson              5.0              6.0      NaN  \n",
       "Secante                    10.0             11.0      NaN  "
      ]
     },
     "execution_count": 32,
     "metadata": {},
     "output_type": "execute_result"
    }
   ],
   "source": [
    "metodos(f_a, der_a, 0, 3, g_a, tol, maxIter, True)"
   ]
  },
  {
   "cell_type": "markdown",
   "metadata": {},
   "source": [
    "### b)"
   ]
  },
  {
   "cell_type": "code",
   "execution_count": 33,
   "metadata": {},
   "outputs": [],
   "source": [
    "# Função\n",
    "f_b = lambda x: (x+3) * (x+1) * (x-2)**3\n",
    "\n",
    "# Derivada\n",
    "der_b = lambda x: (x-2)**3 * (x+1)+(x-2)**3 * (x+3)+3*(x-2)**2 * (x+1)*(x+3)\n",
    "\n",
    "# f(x) = x -> Ponto fixo\n",
    "g_b = lambda x: (x+3) * (x+1) * (x-2)**3 + x"
   ]
  },
  {
   "cell_type": "code",
   "execution_count": 34,
   "metadata": {},
   "outputs": [
    {
     "data": {
      "image/png": "[encoded data removed]",
      "text/plain": [
       "<Figure size 432x288 with 1 Axes>"
      ]
     },
     "metadata": {
      "needs_background": "light"
     },
     "output_type": "display_data"
    }
   ],
   "source": [
    "plt.plot(np.linspace(0,5), f_b(np.linspace(0,5)))\n",
    "plt.grid(True)"
   ]
  },
  {
   "cell_type": "code",
   "execution_count": null,
   "metadata": {},
   "outputs": [
    {
     "name": "stdout",
     "output_type": "stream",
     "text": [
      "Bisseção\n",
      "Falsa posição\n",
      "Ponto fixo\n"
     ]
    }
   ],
   "source": [
    "metodos(f_b, der_b, 0, 4, g_b, tol, maxIter, True)"
   ]
  },
  {
   "cell_type": "markdown",
   "metadata": {},
   "source": [
    "A execução ficou muito longa e não foi finalizado."
   ]
  },
  {
   "cell_type": "markdown",
   "metadata": {},
   "source": [
    "### c)"
   ]
  },
  {
   "cell_type": "code",
   "execution_count": 35,
   "metadata": {},
   "outputs": [],
   "source": [
    "# Função\n",
    "f_c = lambda x: 5*x**3 + x**2 - np.exp(1-2*x) + np.cos(x) + 20\n",
    "\n",
    "# Derivada\n",
    "der_c = lambda x: 15*x**2 + 2*x + 2*np.exp(1-2*x) - np.sin(x)\n",
    "\n",
    "# f(x) = x -> Ponto fixo\n",
    "g_c = lambda x: 5*x**3 + x**2 - np.exp(1-2*x) + np.cos(x) + 20 + x"
   ]
  },
  {
   "cell_type": "code",
   "execution_count": 36,
   "metadata": {},
   "outputs": [
    {
     "data": {
      "image/png": "[encoded data removed]",
      "text/plain": [
       "<Figure size 432x288 with 1 Axes>"
      ]
     },
     "metadata": {
      "needs_background": "light"
     },
     "output_type": "display_data"
    }
   ],
   "source": [
    "plt.plot(np.linspace(-5,5), f_c(np.linspace(-5,5)))\n",
    "plt.grid(True)"
   ]
  },
  {
   "cell_type": "code",
   "execution_count": 41,
   "metadata": {},
   "outputs": [
    {
     "name": "stdout",
     "output_type": "stream",
     "text": [
      "Bisseção\n",
      "Bisseção: float division by zero\n",
      "Falsa posição\n",
      "Ponto fixo\n",
      "Newton-Raphson\n",
      "Secante\n"
     ]
    },
    {
     "name": "stderr",
     "output_type": "stream",
     "text": [
      "C:\\Users\\domin\\AppData\\Local\\Temp\\ipykernel_8652\\699328827.py:8: RuntimeWarning: overflow encountered in exp\n",
      "  g_c = lambda x: 5*x**3 + x**2 - np.exp(1-2*x) + np.cos(x) + 20 + x\n",
      "C:\\Users\\domin\\AppData\\Local\\Temp\\ipykernel_8652\\4012239433.py:9: RuntimeWarning: invalid value encountered in double_scalars\n",
      "  erro = abs((y_x - x) / y_x)\n"
     ]
    },
    {
     "data": {
      "text/html": [
       "<div>\n",
       "<style scoped>\n",
       "    .dataframe tbody tr th:only-of-type {\n",
       "        vertical-align: middle;\n",
       "    }\n",
       "\n",
       "    .dataframe tbody tr th {\n",
       "        vertical-align: top;\n",
       "    }\n",
       "\n",
       "    .dataframe thead th {\n",
       "        text-align: right;\n",
       "    }\n",
       "</style>\n",
       "<table border=\"1\" class=\"dataframe\">\n",
       "  <thead>\n",
       "    <tr style=\"text-align: right;\">\n",
       "      <th></th>\n",
       "      <th>Desenvolvido</th>\n",
       "      <th>scipy.optimize</th>\n",
       "      <th>Time - Des</th>\n",
       "      <th>Time - OPT</th>\n",
       "      <th>Interações - Des</th>\n",
       "      <th>Interações - OPT</th>\n",
       "      <th>Erro</th>\n",
       "    </tr>\n",
       "  </thead>\n",
       "  <tbody>\n",
       "    <tr>\n",
       "      <th>bisseção</th>\n",
       "      <td>NaN</td>\n",
       "      <td>-0.92956</td>\n",
       "      <td>inf</td>\n",
       "      <td>0.000629</td>\n",
       "      <td>inf</td>\n",
       "      <td>37</td>\n",
       "      <td>des</td>\n",
       "    </tr>\n",
       "    <tr>\n",
       "      <th>falsa posição</th>\n",
       "      <td>1.568769</td>\n",
       "      <td>NaN</td>\n",
       "      <td>0.005</td>\n",
       "      <td>NaN</td>\n",
       "      <td>200.0</td>\n",
       "      <td>NaN</td>\n",
       "      <td>NaN</td>\n",
       "    </tr>\n",
       "    <tr>\n",
       "      <th>ponto fixo</th>\n",
       "      <td>-inf</td>\n",
       "      <td>-5.0</td>\n",
       "      <td>0.001048</td>\n",
       "      <td>0.001207</td>\n",
       "      <td>2</td>\n",
       "      <td>NaN</td>\n",
       "      <td>NaN</td>\n",
       "    </tr>\n",
       "    <tr>\n",
       "      <th>Newton-Raphson</th>\n",
       "      <td>-0.92956</td>\n",
       "      <td>-0.92956</td>\n",
       "      <td>0.001102</td>\n",
       "      <td>0.002467</td>\n",
       "      <td>12.0</td>\n",
       "      <td>13.0</td>\n",
       "      <td>NaN</td>\n",
       "    </tr>\n",
       "    <tr>\n",
       "      <th>Secante</th>\n",
       "      <td>-0.92956</td>\n",
       "      <td>-0.92956</td>\n",
       "      <td>0.000978</td>\n",
       "      <td>0.0038</td>\n",
       "      <td>21.0</td>\n",
       "      <td>24.0</td>\n",
       "      <td>NaN</td>\n",
       "    </tr>\n",
       "  </tbody>\n",
       "</table>\n",
       "</div>"
      ],
      "text/plain": [
       "               Desenvolvido scipy.optimize Time - Des Time - OPT  \\\n",
       "bisseção                NaN       -0.92956        inf   0.000629   \n",
       "falsa posição      1.568769            NaN      0.005        NaN   \n",
       "ponto fixo             -inf           -5.0   0.001048   0.001207   \n",
       "Newton-Raphson     -0.92956       -0.92956   0.001102   0.002467   \n",
       "Secante            -0.92956       -0.92956   0.000978     0.0038   \n",
       "\n",
       "               Interações - Des Interações - OPT Erro  \n",
       "bisseção                    inf               37  des  \n",
       "falsa posição             200.0              NaN  NaN  \n",
       "ponto fixo                    2              NaN  NaN  \n",
       "Newton-Raphson             12.0             13.0  NaN  \n",
       "Secante                    21.0             24.0  NaN  "
      ]
     },
     "execution_count": 41,
     "metadata": {},
     "output_type": "execute_result"
    }
   ],
   "source": [
    "metodos(f_c, der_c, -5, 5, g_c, tol, maxIter, True)"
   ]
  },
  {
   "cell_type": "markdown",
   "metadata": {},
   "source": [
    "Overflow em bisseção."
   ]
  },
  {
   "cell_type": "markdown",
   "metadata": {},
   "source": [
    "### d)"
   ]
  },
  {
   "cell_type": "code",
   "execution_count": 42,
   "metadata": {},
   "outputs": [],
   "source": [
    "# Função\n",
    "f_d = lambda x: np.sin(x) * x + 4\n",
    "\n",
    "# Derivada\n",
    "der_d = lambda x: np.cos(x)*x + np.sin(x)\n",
    "\n",
    "# f(x) = x -> Ponto fixo\n",
    "g_d = lambda x: np.sin(x) * x + 4 + x"
   ]
  },
  {
   "cell_type": "code",
   "execution_count": 43,
   "metadata": {},
   "outputs": [
    {
     "data": {
      "image/png": "[encoded data removed]",
      "text/plain": [
       "<Figure size 432x288 with 1 Axes>"
      ]
     },
     "metadata": {
      "needs_background": "light"
     },
     "output_type": "display_data"
    }
   ],
   "source": [
    "plt.plot(np.linspace(1,5), f_d(np.linspace(1,5)))\n",
    "plt.grid(True)"
   ]
  },
  {
   "cell_type": "code",
   "execution_count": 44,
   "metadata": {},
   "outputs": [
    {
     "name": "stdout",
     "output_type": "stream",
     "text": [
      "Bisseção\n",
      "Falsa posição\n",
      "Ponto fixo\n",
      "Newton-Raphson\n",
      "Secante\n"
     ]
    },
    {
     "data": {
      "text/html": [
       "<div>\n",
       "<style scoped>\n",
       "    .dataframe tbody tr th:only-of-type {\n",
       "        vertical-align: middle;\n",
       "    }\n",
       "\n",
       "    .dataframe tbody tr th {\n",
       "        vertical-align: top;\n",
       "    }\n",
       "\n",
       "    .dataframe thead th {\n",
       "        text-align: right;\n",
       "    }\n",
       "</style>\n",
       "<table border=\"1\" class=\"dataframe\">\n",
       "  <thead>\n",
       "    <tr style=\"text-align: right;\">\n",
       "      <th></th>\n",
       "      <th>Desenvolvido</th>\n",
       "      <th>scipy.optimize</th>\n",
       "      <th>Time - Des</th>\n",
       "      <th>Time - OPT</th>\n",
       "      <th>Interações - Des</th>\n",
       "      <th>Interações - OPT</th>\n",
       "      <th>Erro</th>\n",
       "    </tr>\n",
       "  </thead>\n",
       "  <tbody>\n",
       "    <tr>\n",
       "      <th>bisseção</th>\n",
       "      <td>4.32324</td>\n",
       "      <td>4.32324</td>\n",
       "      <td>0.000442</td>\n",
       "      <td>0.000335</td>\n",
       "      <td>34.0</td>\n",
       "      <td>36.0</td>\n",
       "      <td>NaN</td>\n",
       "    </tr>\n",
       "    <tr>\n",
       "      <th>falsa posição</th>\n",
       "      <td>4.32324</td>\n",
       "      <td>NaN</td>\n",
       "      <td>0.000212</td>\n",
       "      <td>NaN</td>\n",
       "      <td>10.0</td>\n",
       "      <td>NaN</td>\n",
       "      <td>NaN</td>\n",
       "    </tr>\n",
       "    <tr>\n",
       "      <th>ponto fixo</th>\n",
       "      <td>4.106928</td>\n",
       "      <td>4.323239543713715</td>\n",
       "      <td>0.002631</td>\n",
       "      <td>0.005358</td>\n",
       "      <td>200</td>\n",
       "      <td>NaN</td>\n",
       "      <td>NaN</td>\n",
       "    </tr>\n",
       "    <tr>\n",
       "      <th>Newton-Raphson</th>\n",
       "      <td>-5.461308</td>\n",
       "      <td>-5.461308</td>\n",
       "      <td>0.000354</td>\n",
       "      <td>0.001464</td>\n",
       "      <td>7.0</td>\n",
       "      <td>8.0</td>\n",
       "      <td>NaN</td>\n",
       "    </tr>\n",
       "    <tr>\n",
       "      <th>Secante</th>\n",
       "      <td>4.32324</td>\n",
       "      <td>4.32324</td>\n",
       "      <td>0.000221</td>\n",
       "      <td>0.0012</td>\n",
       "      <td>7.0</td>\n",
       "      <td>7.0</td>\n",
       "      <td>NaN</td>\n",
       "    </tr>\n",
       "  </tbody>\n",
       "</table>\n",
       "</div>"
      ],
      "text/plain": [
       "               Desenvolvido     scipy.optimize Time - Des Time - OPT  \\\n",
       "bisseção            4.32324            4.32324   0.000442   0.000335   \n",
       "falsa posição       4.32324                NaN   0.000212        NaN   \n",
       "ponto fixo         4.106928  4.323239543713715   0.002631   0.005358   \n",
       "Newton-Raphson    -5.461308          -5.461308   0.000354   0.001464   \n",
       "Secante             4.32324            4.32324   0.000221     0.0012   \n",
       "\n",
       "               Interações - Des Interações - OPT Erro  \n",
       "bisseção                   34.0             36.0  NaN  \n",
       "falsa posição              10.0              NaN  NaN  \n",
       "ponto fixo                  200              NaN  NaN  \n",
       "Newton-Raphson              7.0              8.0  NaN  \n",
       "Secante                     7.0              7.0  NaN  "
      ]
     },
     "execution_count": 44,
     "metadata": {},
     "output_type": "execute_result"
    }
   ],
   "source": [
    "metodos(f_d, der_d, 1, 5, g_d, tol, maxIter, True)"
   ]
  },
  {
   "cell_type": "markdown",
   "metadata": {},
   "source": [
    "### e)"
   ]
  },
  {
   "cell_type": "code",
   "execution_count": 49,
   "metadata": {},
   "outputs": [],
   "source": [
    "# Função\n",
    "f_e = lambda x: (x-3)**5 * np.log(x)\n",
    "\n",
    "# Derivada\n",
    "der_e = lambda x: 5 * np.log(x) * (x-3)**4 + ((x-3)**5 / x)\n",
    "\n",
    "# f(x) = x -> Ponto fixo\n",
    "g_e = lambda x: (x-3)**5 * np.log(x) + x"
   ]
  },
  {
   "cell_type": "code",
   "execution_count": 50,
   "metadata": {},
   "outputs": [
    {
     "data": {
      "image/png": "[encoded data removed]",
      "text/plain": [
       "<Figure size 432x288 with 1 Axes>"
      ]
     },
     "metadata": {
      "needs_background": "light"
     },
     "output_type": "display_data"
    }
   ],
   "source": [
    "plt.plot(np.linspace(2,5), f_e(np.linspace(2,5)))\n",
    "plt.grid(True)"
   ]
  },
  {
   "cell_type": "code",
   "execution_count": 51,
   "metadata": {},
   "outputs": [
    {
     "name": "stdout",
     "output_type": "stream",
     "text": [
      "Bisseção\n",
      "Falsa posição\n",
      "Ponto fixo\n",
      "      converged: True\n",
      "           flag: 'converged'\n",
      " function_calls: 37\n",
      "     iterations: 35\n",
      "           root: 3.000000000029104\n",
      "Ponto Fixo: Failed to converge after 200 iterations, value is 2.988898241299862\n",
      "Newton-Raphson\n",
      "Secante\n"
     ]
    },
    {
     "name": "stderr",
     "output_type": "stream",
     "text": [
      "C:\\Users\\domin\\AppData\\Local\\Temp\\ipykernel_8652\\3133039039.py:8: RuntimeWarning: invalid value encountered in log\n",
      "  g_e = lambda x: (x-3)**5 * np.log(x) + x\n"
     ]
    },
    {
     "data": {
      "text/html": [
       "<div>\n",
       "<style scoped>\n",
       "    .dataframe tbody tr th:only-of-type {\n",
       "        vertical-align: middle;\n",
       "    }\n",
       "\n",
       "    .dataframe tbody tr th {\n",
       "        vertical-align: top;\n",
       "    }\n",
       "\n",
       "    .dataframe thead th {\n",
       "        text-align: right;\n",
       "    }\n",
       "</style>\n",
       "<table border=\"1\" class=\"dataframe\">\n",
       "  <thead>\n",
       "    <tr style=\"text-align: right;\">\n",
       "      <th></th>\n",
       "      <th>Desenvolvido</th>\n",
       "      <th>scipy.optimize</th>\n",
       "      <th>Time - Des</th>\n",
       "      <th>Time - OPT</th>\n",
       "      <th>Interações - Des</th>\n",
       "      <th>Interações - OPT</th>\n",
       "      <th>Erro</th>\n",
       "    </tr>\n",
       "  </thead>\n",
       "  <tbody>\n",
       "    <tr>\n",
       "      <th>bisseção</th>\n",
       "      <td>3.0</td>\n",
       "      <td>3.0</td>\n",
       "      <td>0.000477</td>\n",
       "      <td>0.000334</td>\n",
       "      <td>34.0</td>\n",
       "      <td>35.0</td>\n",
       "      <td>NaN</td>\n",
       "    </tr>\n",
       "    <tr>\n",
       "      <th>falsa posição</th>\n",
       "      <td>2.59391</td>\n",
       "      <td>NaN</td>\n",
       "      <td>0.00366</td>\n",
       "      <td>NaN</td>\n",
       "      <td>200.0</td>\n",
       "      <td>NaN</td>\n",
       "      <td>NaN</td>\n",
       "    </tr>\n",
       "    <tr>\n",
       "      <th>ponto fixo</th>\n",
       "      <td>NaN</td>\n",
       "      <td>NaN</td>\n",
       "      <td>0.00083</td>\n",
       "      <td>inf</td>\n",
       "      <td>3</td>\n",
       "      <td>inf</td>\n",
       "      <td>opt</td>\n",
       "    </tr>\n",
       "    <tr>\n",
       "      <th>Newton-Raphson</th>\n",
       "      <td>3.0</td>\n",
       "      <td>3.0</td>\n",
       "      <td>0.003233</td>\n",
       "      <td>0.019471</td>\n",
       "      <td>91.0</td>\n",
       "      <td>97.0</td>\n",
       "      <td>NaN</td>\n",
       "    </tr>\n",
       "    <tr>\n",
       "      <th>Secante</th>\n",
       "      <td>3.0</td>\n",
       "      <td>3.0</td>\n",
       "      <td>0.004029</td>\n",
       "      <td>0.020511</td>\n",
       "      <td>130.0</td>\n",
       "      <td>138.0</td>\n",
       "      <td>NaN</td>\n",
       "    </tr>\n",
       "  </tbody>\n",
       "</table>\n",
       "</div>"
      ],
      "text/plain": [
       "               Desenvolvido scipy.optimize Time - Des Time - OPT  \\\n",
       "bisseção                3.0            3.0   0.000477   0.000334   \n",
       "falsa posição       2.59391            NaN    0.00366        NaN   \n",
       "ponto fixo              NaN            NaN    0.00083        inf   \n",
       "Newton-Raphson          3.0            3.0   0.003233   0.019471   \n",
       "Secante                 3.0            3.0   0.004029   0.020511   \n",
       "\n",
       "               Interações - Des Interações - OPT Erro  \n",
       "bisseção                   34.0             35.0  NaN  \n",
       "falsa posição             200.0              NaN  NaN  \n",
       "ponto fixo                    3              inf  opt  \n",
       "Newton-Raphson             91.0             97.0  NaN  \n",
       "Secante                   130.0            138.0  NaN  "
      ]
     },
     "execution_count": 51,
     "metadata": {},
     "output_type": "execute_result"
    }
   ],
   "source": [
    "metodos(f_e, der_e, 2, 5, g_e, tol, maxIter, True)"
   ]
  },
  {
   "cell_type": "markdown",
   "metadata": {},
   "source": [
    "Erro em ponto fixo."
   ]
  },
  {
   "cell_type": "markdown",
   "metadata": {},
   "source": [
    "### f)"
   ]
  },
  {
   "cell_type": "code",
   "execution_count": 52,
   "metadata": {},
   "outputs": [],
   "source": [
    "# Função\n",
    "f_f = lambda x: x**10 - 1\n",
    "\n",
    "# Derivada\n",
    "der_f = lambda x: 10*x**9\n",
    "\n",
    "# f(x) = x -> Ponto fixo\n",
    "g_f = lambda x: x**10 - 1 + x"
   ]
  },
  {
   "cell_type": "code",
   "execution_count": 53,
   "metadata": {},
   "outputs": [
    {
     "data": {
      "image/png": "[encoded data removed]",
      "text/plain": [
       "<Figure size 432x288 with 1 Axes>"
      ]
     },
     "metadata": {
      "needs_background": "light"
     },
     "output_type": "display_data"
    }
   ],
   "source": [
    "plt.plot(np.linspace(0.8,1.2), f_f(np.linspace(0.8,1.2)))\n",
    "plt.grid(True)"
   ]
  },
  {
   "cell_type": "code",
   "execution_count": 54,
   "metadata": {},
   "outputs": [
    {
     "name": "stdout",
     "output_type": "stream",
     "text": [
      "Bisseção\n",
      "Falsa posição\n",
      "Ponto fixo\n",
      "Ponto Fixo: (34, 'Result too large')\n",
      "Newton-Raphson\n",
      "Secante\n"
     ]
    },
    {
     "data": {
      "text/html": [
       "<div>\n",
       "<style scoped>\n",
       "    .dataframe tbody tr th:only-of-type {\n",
       "        vertical-align: middle;\n",
       "    }\n",
       "\n",
       "    .dataframe tbody tr th {\n",
       "        vertical-align: top;\n",
       "    }\n",
       "\n",
       "    .dataframe thead th {\n",
       "        text-align: right;\n",
       "    }\n",
       "</style>\n",
       "<table border=\"1\" class=\"dataframe\">\n",
       "  <thead>\n",
       "    <tr style=\"text-align: right;\">\n",
       "      <th></th>\n",
       "      <th>Desenvolvido</th>\n",
       "      <th>scipy.optimize</th>\n",
       "      <th>Time - Des</th>\n",
       "      <th>Time - OPT</th>\n",
       "      <th>Interações - Des</th>\n",
       "      <th>Interações - OPT</th>\n",
       "      <th>Erro</th>\n",
       "    </tr>\n",
       "  </thead>\n",
       "  <tbody>\n",
       "    <tr>\n",
       "      <th>bisseção</th>\n",
       "      <td>1.0</td>\n",
       "      <td>1.0</td>\n",
       "      <td>0.000023</td>\n",
       "      <td>0.000082</td>\n",
       "      <td>2.0</td>\n",
       "      <td>1.0</td>\n",
       "      <td>NaN</td>\n",
       "    </tr>\n",
       "    <tr>\n",
       "      <th>falsa posição</th>\n",
       "      <td>1.0</td>\n",
       "      <td>NaN</td>\n",
       "      <td>0.000229</td>\n",
       "      <td>NaN</td>\n",
       "      <td>45.0</td>\n",
       "      <td>NaN</td>\n",
       "      <td>NaN</td>\n",
       "    </tr>\n",
       "    <tr>\n",
       "      <th>ponto fixo</th>\n",
       "      <td>NaN</td>\n",
       "      <td>8.220599931767394</td>\n",
       "      <td>inf</td>\n",
       "      <td>0.001247</td>\n",
       "      <td>inf</td>\n",
       "      <td>NaN</td>\n",
       "      <td>des</td>\n",
       "    </tr>\n",
       "    <tr>\n",
       "      <th>Newton-Raphson</th>\n",
       "      <td>1.0</td>\n",
       "      <td>1.0</td>\n",
       "      <td>0.000044</td>\n",
       "      <td>0.001467</td>\n",
       "      <td>9.0</td>\n",
       "      <td>10.0</td>\n",
       "      <td>NaN</td>\n",
       "    </tr>\n",
       "    <tr>\n",
       "      <th>Secante</th>\n",
       "      <td>1.0</td>\n",
       "      <td>1.0</td>\n",
       "      <td>0.000042</td>\n",
       "      <td>0.001574</td>\n",
       "      <td>10.0</td>\n",
       "      <td>11.0</td>\n",
       "      <td>NaN</td>\n",
       "    </tr>\n",
       "  </tbody>\n",
       "</table>\n",
       "</div>"
      ],
      "text/plain": [
       "               Desenvolvido     scipy.optimize Time - Des Time - OPT  \\\n",
       "bisseção                1.0                1.0   0.000023   0.000082   \n",
       "falsa posição           1.0                NaN   0.000229        NaN   \n",
       "ponto fixo              NaN  8.220599931767394        inf   0.001247   \n",
       "Newton-Raphson          1.0                1.0   0.000044   0.001467   \n",
       "Secante                 1.0                1.0   0.000042   0.001574   \n",
       "\n",
       "               Interações - Des Interações - OPT Erro  \n",
       "bisseção                    2.0              1.0  NaN  \n",
       "falsa posição              45.0              NaN  NaN  \n",
       "ponto fixo                  inf              NaN  des  \n",
       "Newton-Raphson              9.0             10.0  NaN  \n",
       "Secante                    10.0             11.0  NaN  "
      ]
     },
     "execution_count": 54,
     "metadata": {},
     "output_type": "execute_result"
    }
   ],
   "source": [
    "metodos(f_f, der_f, 0.8, 1.2, g_f, tol, maxIter, True)"
   ]
  },
  {
   "cell_type": "markdown",
   "metadata": {},
   "source": [
    "Ponto fixo resultado muito grande."
   ]
  },
  {
   "cell_type": "code",
   "execution_count": null,
   "metadata": {},
   "outputs": [],
   "source": []
  }
 ],
 "metadata": {
  "interpreter": {
   "hash": "48363ac18b8bce9d29537e4eca2f8a52017d1f408dcecb5e01cf109a6049569c"
  },
  "kernelspec": {
   "display_name": "Python 3 (ipykernel)",
   "language": "python",
   "name": "python3"
  },
  "language_info": {
   "codemirror_mode": {
    "name": "ipython",
    "version": 3
   },
   "file_extension": ".py",
   "mimetype": "text/x-python",
   "name": "python",
   "nbconvert_exporter": "python",
   "pygments_lexer": "ipython3",
   "version": "3.9.7"
  }
 },
 "nbformat": 4,
 "nbformat_minor": 2
}
