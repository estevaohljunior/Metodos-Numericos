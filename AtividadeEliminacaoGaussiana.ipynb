{
 "cells": [
  {
   "cell_type": "markdown",
   "metadata": {},
   "source": [
    "# Aluno: Estevão Holanda Lima Júnior\n",
    "# Disciplina: Métodos Numéricos\n",
    "# Curso: Engenharia de Computação\n",
    "# Matricula: 201921250050"
   ]
  },
  {
   "cell_type": "code",
   "execution_count": 206,
   "metadata": {},
   "outputs": [],
   "source": [
    "import numpy as np\n",
    "import scipy.linalg as sla"
   ]
  },
  {
   "cell_type": "code",
   "execution_count": 207,
   "metadata": {},
   "outputs": [],
   "source": [
    "def pivo(mE , i) :\n",
    "    iMax = np.abs(mE[i : , i]).argmax() + i\n",
    "    mE[[iMax, i]] = mE[[i, iMax]]\n",
    "    return mE\n",
    "\n",
    "def eliminacaoGaussiana(A, b) :\n",
    "    mE = np.c_[A, b]\n",
    "    n = len(A)\n",
    "    \n",
    "    for i in range(n - 1) :\n",
    "        mE = pivo(mE, i)\n",
    "        for j in range(i + 1, n) :\n",
    "            mE[j] = mE[j] - (mE[j, i] / mE[i, i]) * mE[i]\n",
    "    return mE[ : , : -1], mE[ : , -1]\n",
    "\n",
    "def sist_lin_tri_sup(A, b) :\n",
    "    n = len(b)\n",
    "    x = np.zeros(n)\n",
    "    x[-1] = b[-1] / A[-1, -1]\n",
    "    for i in range(n - 2, -1, -1) :\n",
    "        x[i] = (b[i] - np.sum(A[i, i + 1 :] * x[i + 1 :])) / A[i, i]\n",
    "    return x"
   ]
  },
  {
   "cell_type": "markdown",
   "metadata": {},
   "source": [
    "# a)"
   ]
  },
  {
   "cell_type": "code",
   "execution_count": 208,
   "metadata": {},
   "outputs": [
    {
     "name": "stderr",
     "output_type": "stream",
     "text": [
      "C:\\Users\\netom\\AppData\\Local\\Temp\\ipykernel_9976\\4163232134.py:19: RuntimeWarning: invalid value encountered in long_scalars\n",
      "  x[-1] = b[-1] / A[-1, -1]\n"
     ]
    },
    {
     "data": {
      "text/plain": [
       "array([nan, nan, nan])"
      ]
     },
     "execution_count": 208,
     "metadata": {},
     "output_type": "execute_result"
    }
   ],
   "source": [
    "A1 = np.array([[1, 1, 1], [4, 4, 2], [2, 1, -1]])\n",
    "b1 = np.array([1, 2, 0])\n",
    "A2, b2 = eliminacaoGaussiana(A1, b1)\n",
    "sist_lin_tri_sup(A2, b2)"
   ]
  },
  {
   "cell_type": "code",
   "execution_count": 209,
   "metadata": {},
   "outputs": [
    {
     "data": {
      "text/plain": [
       "array([ 1., -1.,  1.])"
      ]
     },
     "execution_count": 209,
     "metadata": {},
     "output_type": "execute_result"
    }
   ],
   "source": [
    "sla.solve(A1, b1)"
   ]
  },
  {
   "cell_type": "markdown",
   "metadata": {},
   "source": [
    "# b)"
   ]
  },
  {
   "cell_type": "code",
   "execution_count": 210,
   "metadata": {},
   "outputs": [
    {
     "data": {
      "text/plain": [
       "array([5.64285714, 5.64285714, 1.        ])"
      ]
     },
     "execution_count": 210,
     "metadata": {},
     "output_type": "execute_result"
    }
   ],
   "source": [
    "A3 = np.array([[7, -7, 1], [-3, 3, 2], [7, 7, -72]])\n",
    "b3 = np.array([1, 2, 7])\n",
    "A4, b4 = eliminacaoGaussiana(A3, b3)\n",
    "sist_lin_tri_sup(A4, b4)"
   ]
  },
  {
   "cell_type": "code",
   "execution_count": 211,
   "metadata": {},
   "outputs": [
    {
     "data": {
      "text/plain": [
       "array([5.64285714, 5.64285714, 1.        ])"
      ]
     },
     "execution_count": 211,
     "metadata": {},
     "output_type": "execute_result"
    }
   ],
   "source": [
    "sla.solve(A3, b3)"
   ]
  },
  {
   "cell_type": "markdown",
   "metadata": {},
   "source": [
    "# c)"
   ]
  },
  {
   "cell_type": "code",
   "execution_count": 212,
   "metadata": {},
   "outputs": [
    {
     "data": {
      "text/plain": [
       "array([ 2., -2.,  2.,  4.])"
      ]
     },
     "execution_count": 212,
     "metadata": {},
     "output_type": "execute_result"
    }
   ],
   "source": [
    "A5 = np.array([[1, 2, 3, 4], [2, 2, 3, 4], [3, 3, 3, 4], [4, 4, 4, 4]])\n",
    "b5 = np.array([20, 22, 22, 24])\n",
    "A6, b6 = eliminacaoGaussiana(A5, b5)\n",
    "sist_lin_tri_sup(A6, b6)"
   ]
  },
  {
   "cell_type": "code",
   "execution_count": 213,
   "metadata": {},
   "outputs": [
    {
     "data": {
      "text/plain": [
       "array([ 2., -2.,  2.,  4.])"
      ]
     },
     "execution_count": 213,
     "metadata": {},
     "output_type": "execute_result"
    }
   ],
   "source": [
    "sla.solve(A5, b5)"
   ]
  }
 ],
 "metadata": {
  "kernelspec": {
   "display_name": "Python 3.10.6 64-bit (system)",
   "language": "python",
   "name": "python3"
  },
  "language_info": {
   "codemirror_mode": {
    "name": "ipython",
    "version": 3
   },
   "file_extension": ".py",
   "mimetype": "text/x-python",
   "name": "python",
   "nbconvert_exporter": "python",
   "pygments_lexer": "ipython3",
   "version": "3.10.6"
  },
  "vscode": {
   "interpreter": {
    "hash": "f994fadd4afe534193dab219548f6455cba5901fb4c39032f2997e5ebf926ab6"
   }
  }
 },
 "nbformat": 4,
 "nbformat_minor": 4
}
